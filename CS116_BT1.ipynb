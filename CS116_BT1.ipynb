{
  "nbformat": 4,
  "nbformat_minor": 0,
  "metadata": {
    "colab": {
      "provenance": []
    },
    "kernelspec": {
      "name": "python3",
      "display_name": "Python 3"
    },
    "language_info": {
      "name": "python"
    }
  },
  "cells": [
    {
      "cell_type": "markdown",
      "source": [
        "# Thông tin sinh viên\n",
        "\n",
        "\n",
        "*  Họ và tên: Lê Trọng Đại Trường\n",
        "*  MSSV: 22521576\n",
        "\n",
        "\n"
      ],
      "metadata": {
        "id": "UBFTlCeO5X4x"
      }
    },
    {
      "cell_type": "markdown",
      "source": [
        "# Bài tập 1"
      ],
      "metadata": {
        "id": "08aorkil5q2Z"
      }
    },
    {
      "cell_type": "code",
      "execution_count": 1,
      "metadata": {
        "colab": {
          "base_uri": "https://localhost:8080/"
        },
        "id": "Usz6tKzzb4ra",
        "outputId": "cc891443-7d7d-4c33-af45-27be6f13afbc"
      },
      "outputs": [
        {
          "output_type": "stream",
          "name": "stdout",
          "text": [
            "Requirement already satisfied: geopandas in /usr/local/lib/python3.10/dist-packages (1.0.1)\n",
            "Requirement already satisfied: numpy>=1.22 in /usr/local/lib/python3.10/dist-packages (from geopandas) (1.26.4)\n",
            "Requirement already satisfied: pyogrio>=0.7.2 in /usr/local/lib/python3.10/dist-packages (from geopandas) (0.10.0)\n",
            "Requirement already satisfied: packaging in /usr/local/lib/python3.10/dist-packages (from geopandas) (24.1)\n",
            "Requirement already satisfied: pandas>=1.4.0 in /usr/local/lib/python3.10/dist-packages (from geopandas) (2.2.2)\n",
            "Requirement already satisfied: pyproj>=3.3.0 in /usr/local/lib/python3.10/dist-packages (from geopandas) (3.7.0)\n",
            "Requirement already satisfied: shapely>=2.0.0 in /usr/local/lib/python3.10/dist-packages (from geopandas) (2.0.6)\n",
            "Requirement already satisfied: python-dateutil>=2.8.2 in /usr/local/lib/python3.10/dist-packages (from pandas>=1.4.0->geopandas) (2.8.2)\n",
            "Requirement already satisfied: pytz>=2020.1 in /usr/local/lib/python3.10/dist-packages (from pandas>=1.4.0->geopandas) (2024.2)\n",
            "Requirement already satisfied: tzdata>=2022.7 in /usr/local/lib/python3.10/dist-packages (from pandas>=1.4.0->geopandas) (2024.2)\n",
            "Requirement already satisfied: certifi in /usr/local/lib/python3.10/dist-packages (from pyogrio>=0.7.2->geopandas) (2024.8.30)\n",
            "Requirement already satisfied: six>=1.5 in /usr/local/lib/python3.10/dist-packages (from python-dateutil>=2.8.2->pandas>=1.4.0->geopandas) (1.16.0)\n"
          ]
        }
      ],
      "source": [
        "!pip install geopandas"
      ]
    },
    {
      "cell_type": "code",
      "source": [
        "!wget https://raw.githubusercontent.com/CityScope/CSL_HCMC/main/Data/GIS/Population/population_HCMC/population_shapefile/Population_Ward_Level.shp\n",
        "!wget https://raw.githubusercontent.com/CityScope/CSL_HCMC/main/Data/GIS/Population/population_HCMC/population_shapefile/Population_Ward_Level.shx\n",
        "!wget https://raw.githubusercontent.com/CityScope/CSL_HCMC/main/Data/GIS/Population/population_HCMC/population_shapefile/Population_Ward_Level.dbf\n",
        "!wget https://raw.githubusercontent.com/CityScope/CSL_HCMC/main/Data/GIS/Population/population_HCMC/population_shapefile/Population_Ward_Level.cpg\n",
        "!wget https://raw.githubusercontent.com/CityScope/CSL_HCMC/main/Data/GIS/Population/population_HCMC/population_shapefile/Population_Ward_Level.prj\n",
        "!wget https://raw.githubusercontent.com/CityScope/CSL_HCMC/main/Data/GIS/Population/population_HCMC/population_shapefile/Population_Ward_Level.sbn\n",
        "\n",
        "\n"
      ],
      "metadata": {
        "colab": {
          "base_uri": "https://localhost:8080/"
        },
        "id": "g5gPvvAccM39",
        "outputId": "35160811-705f-43bf-a2a3-f8a66e96cd6b"
      },
      "execution_count": 2,
      "outputs": [
        {
          "output_type": "stream",
          "name": "stdout",
          "text": [
            "--2024-10-20 14:14:15--  https://raw.githubusercontent.com/CityScope/CSL_HCMC/main/Data/GIS/Population/population_HCMC/population_shapefile/Population_Ward_Level.shp\n",
            "Resolving raw.githubusercontent.com (raw.githubusercontent.com)... 185.199.108.133, 185.199.109.133, 185.199.110.133, ...\n",
            "Connecting to raw.githubusercontent.com (raw.githubusercontent.com)|185.199.108.133|:443... connected.\n",
            "HTTP request sent, awaiting response... 200 OK\n",
            "Length: 1904996 (1.8M) [application/octet-stream]\n",
            "Saving to: ‘Population_Ward_Level.shp’\n",
            "\n",
            "Population_Ward_Lev 100%[===================>]   1.82M  --.-KB/s    in 0.05s   \n",
            "\n",
            "2024-10-20 14:14:16 (39.9 MB/s) - ‘Population_Ward_Level.shp’ saved [1904996/1904996]\n",
            "\n",
            "--2024-10-20 14:14:16--  https://raw.githubusercontent.com/CityScope/CSL_HCMC/main/Data/GIS/Population/population_HCMC/population_shapefile/Population_Ward_Level.shx\n",
            "Resolving raw.githubusercontent.com (raw.githubusercontent.com)... 185.199.109.133, 185.199.111.133, 185.199.110.133, ...\n",
            "Connecting to raw.githubusercontent.com (raw.githubusercontent.com)|185.199.109.133|:443... connected.\n",
            "HTTP request sent, awaiting response... 200 OK\n",
            "Length: 2676 (2.6K) [application/octet-stream]\n",
            "Saving to: ‘Population_Ward_Level.shx’\n",
            "\n",
            "Population_Ward_Lev 100%[===================>]   2.61K  --.-KB/s    in 0s      \n",
            "\n",
            "2024-10-20 14:14:16 (39.9 MB/s) - ‘Population_Ward_Level.shx’ saved [2676/2676]\n",
            "\n",
            "--2024-10-20 14:14:16--  https://raw.githubusercontent.com/CityScope/CSL_HCMC/main/Data/GIS/Population/population_HCMC/population_shapefile/Population_Ward_Level.dbf\n",
            "Resolving raw.githubusercontent.com (raw.githubusercontent.com)... 185.199.110.133, 185.199.108.133, 185.199.111.133, ...\n",
            "Connecting to raw.githubusercontent.com (raw.githubusercontent.com)|185.199.110.133|:443... connected.\n",
            "HTTP request sent, awaiting response... 200 OK\n",
            "Length: 68972 (67K) [application/octet-stream]\n",
            "Saving to: ‘Population_Ward_Level.dbf’\n",
            "\n",
            "Population_Ward_Lev 100%[===================>]  67.36K  --.-KB/s    in 0.02s   \n",
            "\n",
            "2024-10-20 14:14:16 (4.34 MB/s) - ‘Population_Ward_Level.dbf’ saved [68972/68972]\n",
            "\n",
            "--2024-10-20 14:14:16--  https://raw.githubusercontent.com/CityScope/CSL_HCMC/main/Data/GIS/Population/population_HCMC/population_shapefile/Population_Ward_Level.cpg\n",
            "Resolving raw.githubusercontent.com (raw.githubusercontent.com)... 185.199.110.133, 185.199.108.133, 185.199.111.133, ...\n",
            "Connecting to raw.githubusercontent.com (raw.githubusercontent.com)|185.199.110.133|:443... connected.\n",
            "HTTP request sent, awaiting response... 200 OK\n",
            "Length: 5 [text/plain]\n",
            "Saving to: ‘Population_Ward_Level.cpg’\n",
            "\n",
            "Population_Ward_Lev 100%[===================>]       5  --.-KB/s    in 0s      \n",
            "\n",
            "2024-10-20 14:14:17 (81.3 KB/s) - ‘Population_Ward_Level.cpg’ saved [5/5]\n",
            "\n",
            "--2024-10-20 14:14:17--  https://raw.githubusercontent.com/CityScope/CSL_HCMC/main/Data/GIS/Population/population_HCMC/population_shapefile/Population_Ward_Level.prj\n",
            "Resolving raw.githubusercontent.com (raw.githubusercontent.com)... 185.199.108.133, 185.199.109.133, 185.199.110.133, ...\n",
            "Connecting to raw.githubusercontent.com (raw.githubusercontent.com)|185.199.108.133|:443... connected.\n",
            "HTTP request sent, awaiting response... 200 OK\n",
            "Length: 402 [text/plain]\n",
            "Saving to: ‘Population_Ward_Level.prj’\n",
            "\n",
            "Population_Ward_Lev 100%[===================>]     402  --.-KB/s    in 0s      \n",
            "\n",
            "2024-10-20 14:14:17 (6.86 MB/s) - ‘Population_Ward_Level.prj’ saved [402/402]\n",
            "\n",
            "--2024-10-20 14:14:17--  https://raw.githubusercontent.com/CityScope/CSL_HCMC/main/Data/GIS/Population/population_HCMC/population_shapefile/Population_Ward_Level.sbn\n",
            "Resolving raw.githubusercontent.com (raw.githubusercontent.com)... 185.199.108.133, 185.199.109.133, 185.199.110.133, ...\n",
            "Connecting to raw.githubusercontent.com (raw.githubusercontent.com)|185.199.108.133|:443... connected.\n",
            "HTTP request sent, awaiting response... 200 OK\n",
            "Length: 3308 (3.2K) [application/octet-stream]\n",
            "Saving to: ‘Population_Ward_Level.sbn’\n",
            "\n",
            "Population_Ward_Lev 100%[===================>]   3.23K  --.-KB/s    in 0s      \n",
            "\n",
            "2024-10-20 14:14:17 (33.0 MB/s) - ‘Population_Ward_Level.sbn’ saved [3308/3308]\n",
            "\n"
          ]
        }
      ]
    },
    {
      "cell_type": "code",
      "source": [
        "import geopandas as gpd\n",
        "\n",
        "file_path = '/content/Population_Ward_Level.shp'\n",
        "\n",
        "try:\n",
        "  gdf = gpd.read_file(file_path)\n",
        "  print(gdf.head())\n",
        "except FileNotFoundError:\n",
        "  print(f\"Error: File not found at path: {file_path}\")"
      ],
      "metadata": {
        "colab": {
          "base_uri": "https://localhost:8080/"
        },
        "id": "GZvUf53Vcnhr",
        "outputId": "a04982aa-4e3a-4a78-dbf9-efbfed3eb68b"
      },
      "execution_count": 3,
      "outputs": [
        {
          "output_type": "stream",
          "name": "stdout",
          "text": [
            "           Com_Name   Dist_Name Com_ID Dist_ID Level  Pop_2009  Pop_2019  \\\n",
            "0          Tan Dinh  District 1  26734     760  Ward   26571.0   23258.0   \n",
            "1          Ben Nghe  District 1  26740     760  Ward   13580.0   10633.0   \n",
            "2      Cau Ong Lanh  District 1  26752     760  Ward   12917.0   10737.0   \n",
            "3  Nguyen Thai Binh  District 1  26746     760  Ward   13197.0    9716.0   \n",
            "4          Co Giang  District 1  26755     760  Ward   18967.0   11517.0   \n",
            "\n",
            "   Den_2009  Den_2019   Shape_Leng    Shape_Area  \\\n",
            "0  41942.70  36713.10  3679.098196  6.334981e+05   \n",
            "1   5480.09   4290.86  6978.149149  2.478041e+06   \n",
            "2  56878.90  47279.50  2260.705105  2.270938e+05   \n",
            "3  26798.80  19730.00  3320.174618  4.924426e+05   \n",
            "4  53327.60  32381.20  2525.453814  3.556650e+05   \n",
            "\n",
            "                                            geometry  \n",
            "0  POLYGON ((684350.511 1193546.266, 684363.81 11...  \n",
            "1  POLYGON ((686564.657 1193462.473, 686588.924 1...  \n",
            "2  POLYGON ((685922.373 1190479.807, 685914.16 11...  \n",
            "3  POLYGON ((685966.333 1190513.667, 685944.353 1...  \n",
            "4  POLYGON ((685514.573 1190211.431, 685547.521 1...  \n"
          ]
        }
      ]
    },
    {
      "cell_type": "code",
      "source": [
        "print(type(gdf))"
      ],
      "metadata": {
        "colab": {
          "base_uri": "https://localhost:8080/"
        },
        "id": "xce-XPvgfzta",
        "outputId": "3b2ead94-67f6-4ee4-aa10-4468b577ccf1"
      },
      "execution_count": 4,
      "outputs": [
        {
          "output_type": "stream",
          "name": "stdout",
          "text": [
            "<class 'geopandas.geodataframe.GeoDataFrame'>\n"
          ]
        }
      ]
    },
    {
      "cell_type": "code",
      "source": [
        "# Tìm phường có diện tích lớn nhất\n",
        "largest_area = gdf.loc[gdf['Shape_Area'].idxmax()]\n",
        "print(\"Phường có diện tích lớn nhất là:\", largest_area['Com_Name'],\",\",largest_area['Dist_Name'])"
      ],
      "metadata": {
        "colab": {
          "base_uri": "https://localhost:8080/"
        },
        "id": "aED6kt4Qf7Oi",
        "outputId": "da572a58-3969-4ae5-81f6-352ae0d73e73"
      },
      "execution_count": 5,
      "outputs": [
        {
          "output_type": "stream",
          "name": "stdout",
          "text": [
            "Phường có diện tích lớn nhất là: Ly Nhon , Can Gio\n"
          ]
        }
      ]
    },
    {
      "cell_type": "code",
      "source": [
        "# Tìm phường có dân số 2019 cao nhất\n",
        "highest_pop = gdf.loc[gdf['Pop_2019'].idxmax()]\n",
        "print(\"Phường có dân số 2019 cao nhất là:\", highest_pop['Com_Name'],\",\",highest_pop['Dist_Name'])"
      ],
      "metadata": {
        "colab": {
          "base_uri": "https://localhost:8080/"
        },
        "id": "VAOOgPASzcR5",
        "outputId": "2e1ed0bb-75dd-411f-e3cc-586ac18d9eb2"
      },
      "execution_count": 6,
      "outputs": [
        {
          "output_type": "stream",
          "name": "stdout",
          "text": [
            "Phường có dân số 2019 cao nhất là: Vinh Loc A , Binh Chanh\n"
          ]
        }
      ]
    },
    {
      "cell_type": "code",
      "source": [
        "# Tìm phường có diện tích nhỏ nhất\n",
        "smallest_area = gdf.loc[gdf['Shape_Area'].idxmin()]\n",
        "print(\"Phường có diện tích nhỏ nhất là:\", smallest_area['Com_Name'],\",\",smallest_area['Dist_Name'])"
      ],
      "metadata": {
        "colab": {
          "base_uri": "https://localhost:8080/"
        },
        "id": "7TtmHMER0BSZ",
        "outputId": "be219c96-b466-4681-df0e-15ae91ea7d23"
      },
      "execution_count": 7,
      "outputs": [
        {
          "output_type": "stream",
          "name": "stdout",
          "text": [
            "Phường có diện tích nhỏ nhất là: Ward 3 , District 10\n"
          ]
        }
      ]
    },
    {
      "cell_type": "code",
      "source": [
        "# Tìm phường có dân số 2019 thấp nhất\n",
        "lowest_pop = gdf.loc[gdf['Pop_2019'].idxmin()]\n",
        "print(\"Phường có dân số 2019 thấp nhất là:\", lowest_pop['Com_Name'],\",\",lowest_pop['Dist_Name'])"
      ],
      "metadata": {
        "colab": {
          "base_uri": "https://localhost:8080/"
        },
        "id": "biTA8lej0N2f",
        "outputId": "cebe533e-04b8-4866-c168-755e0650cea6"
      },
      "execution_count": 8,
      "outputs": [
        {
          "output_type": "stream",
          "name": "stdout",
          "text": [
            "Phường có dân số 2019 thấp nhất là: An Khanh , District 2\n"
          ]
        }
      ]
    },
    {
      "cell_type": "code",
      "source": [
        "gdf['Growth_Rate'] = (gdf['Pop_2019'] / gdf['Pop_2009'])\n",
        "print(gdf.head())"
      ],
      "metadata": {
        "colab": {
          "base_uri": "https://localhost:8080/"
        },
        "id": "OE8LSvMN0qDW",
        "outputId": "906169fd-9dc9-45e6-8a62-0950b5d022d1"
      },
      "execution_count": 9,
      "outputs": [
        {
          "output_type": "stream",
          "name": "stdout",
          "text": [
            "           Com_Name   Dist_Name Com_ID Dist_ID Level  Pop_2009  Pop_2019  \\\n",
            "0          Tan Dinh  District 1  26734     760  Ward   26571.0   23258.0   \n",
            "1          Ben Nghe  District 1  26740     760  Ward   13580.0   10633.0   \n",
            "2      Cau Ong Lanh  District 1  26752     760  Ward   12917.0   10737.0   \n",
            "3  Nguyen Thai Binh  District 1  26746     760  Ward   13197.0    9716.0   \n",
            "4          Co Giang  District 1  26755     760  Ward   18967.0   11517.0   \n",
            "\n",
            "   Den_2009  Den_2019   Shape_Leng    Shape_Area  \\\n",
            "0  41942.70  36713.10  3679.098196  6.334981e+05   \n",
            "1   5480.09   4290.86  6978.149149  2.478041e+06   \n",
            "2  56878.90  47279.50  2260.705105  2.270938e+05   \n",
            "3  26798.80  19730.00  3320.174618  4.924426e+05   \n",
            "4  53327.60  32381.20  2525.453814  3.556650e+05   \n",
            "\n",
            "                                            geometry  Growth_Rate  \n",
            "0  POLYGON ((684350.511 1193546.266, 684363.81 11...     0.875315  \n",
            "1  POLYGON ((686564.657 1193462.473, 686588.924 1...     0.782990  \n",
            "2  POLYGON ((685922.373 1190479.807, 685914.16 11...     0.831230  \n",
            "3  POLYGON ((685966.333 1190513.667, 685944.353 1...     0.736228  \n",
            "4  POLYGON ((685514.573 1190211.431, 685547.521 1...     0.607213  \n"
          ]
        }
      ]
    },
    {
      "cell_type": "code",
      "source": [
        "# Tìm phường có tốc độ tăng trưởng dân số nhanh nhất\n",
        "highest_rate = gdf.loc[gdf['Growth_Rate'].idxmax()]\n",
        "print(\"Phường có tốc độ tăng trưởng dân số nhanh nhất là:\", highest_rate['Com_Name'],\",\",highest_rate['Dist_Name'])"
      ],
      "metadata": {
        "colab": {
          "base_uri": "https://localhost:8080/"
        },
        "id": "A1abto722nOX",
        "outputId": "01df6d77-b3a6-48f2-aef8-1ebcfe2b52e9"
      },
      "execution_count": 10,
      "outputs": [
        {
          "output_type": "stream",
          "name": "stdout",
          "text": [
            "Phường có tốc độ tăng trưởng dân số nhanh nhất là: Phu Huu , District 9\n"
          ]
        }
      ]
    },
    {
      "cell_type": "code",
      "source": [
        "# Tìm phường có tốc độ tăng trưởng dân số thấp nhất\n",
        "lowest_rate = gdf.loc[gdf['Growth_Rate'].idxmin()]\n",
        "print(\"Phường có tốc độ tăng trưởng dân số thấp nhất là:\", lowest_rate['Com_Name'],\",\",lowest_rate['Dist_Name'])"
      ],
      "metadata": {
        "colab": {
          "base_uri": "https://localhost:8080/"
        },
        "id": "6bi4BXax3AKI",
        "outputId": "714cf107-3451-4faf-a63c-c8dfe11e5906"
      },
      "execution_count": 11,
      "outputs": [
        {
          "output_type": "stream",
          "name": "stdout",
          "text": [
            "Phường có tốc độ tăng trưởng dân số thấp nhất là: An Khanh , District 2\n"
          ]
        }
      ]
    },
    {
      "cell_type": "code",
      "source": [
        "gdf['Fluctuation'] = abs(gdf['Pop_2019'] - gdf['Pop_2009'])\n",
        "print(gdf.head())"
      ],
      "metadata": {
        "colab": {
          "base_uri": "https://localhost:8080/"
        },
        "id": "aC7ilVdR3MNh",
        "outputId": "dc6a5222-b7a0-4135-e066-048a63f0f295"
      },
      "execution_count": 12,
      "outputs": [
        {
          "output_type": "stream",
          "name": "stdout",
          "text": [
            "           Com_Name   Dist_Name Com_ID Dist_ID Level  Pop_2009  Pop_2019  \\\n",
            "0          Tan Dinh  District 1  26734     760  Ward   26571.0   23258.0   \n",
            "1          Ben Nghe  District 1  26740     760  Ward   13580.0   10633.0   \n",
            "2      Cau Ong Lanh  District 1  26752     760  Ward   12917.0   10737.0   \n",
            "3  Nguyen Thai Binh  District 1  26746     760  Ward   13197.0    9716.0   \n",
            "4          Co Giang  District 1  26755     760  Ward   18967.0   11517.0   \n",
            "\n",
            "   Den_2009  Den_2019   Shape_Leng    Shape_Area  \\\n",
            "0  41942.70  36713.10  3679.098196  6.334981e+05   \n",
            "1   5480.09   4290.86  6978.149149  2.478041e+06   \n",
            "2  56878.90  47279.50  2260.705105  2.270938e+05   \n",
            "3  26798.80  19730.00  3320.174618  4.924426e+05   \n",
            "4  53327.60  32381.20  2525.453814  3.556650e+05   \n",
            "\n",
            "                                            geometry  Growth_Rate  Fluctuation  \n",
            "0  POLYGON ((684350.511 1193546.266, 684363.81 11...     0.875315       3313.0  \n",
            "1  POLYGON ((686564.657 1193462.473, 686588.924 1...     0.782990       2947.0  \n",
            "2  POLYGON ((685922.373 1190479.807, 685914.16 11...     0.831230       2180.0  \n",
            "3  POLYGON ((685966.333 1190513.667, 685944.353 1...     0.736228       3481.0  \n",
            "4  POLYGON ((685514.573 1190211.431, 685547.521 1...     0.607213       7450.0  \n"
          ]
        }
      ]
    },
    {
      "cell_type": "code",
      "source": [
        "# Tìm phường có biến động dân số nhanh nhất\n",
        "highest_fluc = gdf.loc[gdf['Fluctuation'].idxmax()]\n",
        "print(\"Phường có biến động dân số nhanh nhất là:\", highest_fluc['Com_Name'],\",\",highest_fluc['Dist_Name'])"
      ],
      "metadata": {
        "colab": {
          "base_uri": "https://localhost:8080/"
        },
        "id": "1amCyEvJ3rNj",
        "outputId": "2429bbfa-6b94-4501-b63f-b387d783227e"
      },
      "execution_count": 13,
      "outputs": [
        {
          "output_type": "stream",
          "name": "stdout",
          "text": [
            "Phường có biến động dân số nhanh nhất là: Vinh Loc A , Binh Chanh\n"
          ]
        }
      ]
    },
    {
      "cell_type": "code",
      "source": [
        "# Tìm phường có biến động dân số thấp nhất\n",
        "lowest_fluc = gdf.loc[gdf['Fluctuation'].idxmin()]\n",
        "print(\"Phường có biến động dân số thấp nhất là:\", lowest_fluc['Com_Name'],\",\",lowest_fluc['Dist_Name'])"
      ],
      "metadata": {
        "colab": {
          "base_uri": "https://localhost:8080/"
        },
        "id": "TUYG5u7U345F",
        "outputId": "eb29bbb8-dbf1-4666-b88d-48faaf9f911a"
      },
      "execution_count": 14,
      "outputs": [
        {
          "output_type": "stream",
          "name": "stdout",
          "text": [
            "Phường có biến động dân số thấp nhất là: Ward 2 , Binh Thanh\n"
          ]
        }
      ]
    },
    {
      "cell_type": "code",
      "source": [
        "# Tìm phường có mật độ dân số cao nhất\n",
        "highest_density = gdf.loc[gdf['Den_2019'].idxmax()]\n",
        "print(\"Phường có mật độ dân số cao nhất là:\", highest_density['Com_Name'],\",\",highest_density['Dist_Name'])"
      ],
      "metadata": {
        "colab": {
          "base_uri": "https://localhost:8080/"
        },
        "id": "dPcehBHp4cLj",
        "outputId": "893e5e22-97a0-47b4-dbff-f3ef25cfa156"
      },
      "execution_count": 15,
      "outputs": [
        {
          "output_type": "stream",
          "name": "stdout",
          "text": [
            "Phường có mật độ dân số cao nhất là: Ward 8 , District 4\n"
          ]
        }
      ]
    },
    {
      "cell_type": "code",
      "source": [
        "# Tìm phường có mật độ dân số thấp nhất\n",
        "lowest_density = gdf.loc[gdf['Den_2019'].idxmin()]\n",
        "print(\"Phường có mật độ dân số thấp nhất là:\", lowest_density['Com_Name'],\",\",lowest_density['Dist_Name'])"
      ],
      "metadata": {
        "colab": {
          "base_uri": "https://localhost:8080/"
        },
        "id": "7qOP8SCR4eel",
        "outputId": "3e3f68d5-53fa-4f08-8600-1c54c2104306"
      },
      "execution_count": 16,
      "outputs": [
        {
          "output_type": "stream",
          "name": "stdout",
          "text": [
            "Phường có mật độ dân số thấp nhất là: Ly Nhon , Can Gio\n"
          ]
        }
      ]
    }
  ]
}